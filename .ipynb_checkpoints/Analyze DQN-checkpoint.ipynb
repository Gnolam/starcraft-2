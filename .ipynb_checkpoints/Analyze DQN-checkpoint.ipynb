{
 "cells": [
  {
   "cell_type": "code",
   "execution_count": 1,
   "metadata": {},
   "outputs": [],
   "source": [
    "import pandas as pd"
   ]
  },
  {
   "cell_type": "code",
   "execution_count": 4,
   "metadata": {},
   "outputs": [],
   "source": [
    "# DQN = pd.read_pickle('C:/AI/PySC2/DQN_Agent/DQNs/v22a_war.gz', compression='gzip')"
   ]
  },
  {
   "cell_type": "code",
   "execution_count": null,
   "metadata": {},
   "outputs": [],
   "source": [
    "fh_DQN = open('debug/dqn.csv', \"w\")\n",
    "\n",
    "for i in DQN.index:\n",
    "    for c in DQN.columns:\n",
    "        coef = DQN.loc[i, c]\n",
    "        #print(\"%s %s %.8f \" % (i, c, DQN.loc[i, c]))\n",
    "        if coef != 0:\n",
    "            fh_DQN.write(\"\\\"%s\\\",%s,%.8f\\r\" % (i, c, coef))\n",
    "        \n",
    "fh_DQN.close()"
   ]
  },
  {
   "cell_type": "code",
   "execution_count": null,
   "metadata": {},
   "outputs": [],
   "source": []
  }
 ],
 "metadata": {
  "kernelspec": {
   "display_name": "Python 3",
   "language": "python",
   "name": "python3"
  },
  "language_info": {
   "codemirror_mode": {
    "name": "ipython",
    "version": 3
   },
   "file_extension": ".py",
   "mimetype": "text/x-python",
   "name": "python",
   "nbconvert_exporter": "python",
   "pygments_lexer": "ipython3",
   "version": "3.7.2"
  }
 },
 "nbformat": 4,
 "nbformat_minor": 1
}
